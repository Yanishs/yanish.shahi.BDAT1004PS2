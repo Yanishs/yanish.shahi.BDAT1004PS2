{
 "cells": [
  {
   "cell_type": "markdown",
   "id": "f1e9f0b5",
   "metadata": {},
   "source": [
    "# Question 1\n",
    "Consider the following Python module:"
   ]
  },
  {
   "cell_type": "code",
   "execution_count": 1,
   "id": "29518726",
   "metadata": {},
   "outputs": [],
   "source": [
    "a = 0\n",
    "\n",
    "def b():\n",
    "    global a\n",
    "    a= c(a)\n",
    "    \n",
    "def c(a):\n",
    "    return a+2\n",
    "\n"
   ]
  },
  {
   "cell_type": "code",
   "execution_count": 2,
   "id": "d1e2f143",
   "metadata": {},
   "outputs": [],
   "source": [
    "b() "
   ]
  },
  {
   "cell_type": "code",
   "execution_count": 3,
   "id": "c4abf0a5",
   "metadata": {},
   "outputs": [],
   "source": [
    "b()"
   ]
  },
  {
   "cell_type": "code",
   "execution_count": 4,
   "id": "53c01a54",
   "metadata": {},
   "outputs": [],
   "source": [
    "b()"
   ]
  },
  {
   "cell_type": "code",
   "execution_count": 5,
   "id": "d5c4ecfd",
   "metadata": {},
   "outputs": [
    {
     "data": {
      "text/plain": [
       "6"
      ]
     },
     "execution_count": 5,
     "metadata": {},
     "output_type": "execute_result"
    }
   ],
   "source": [
    "a"
   ]
  },
  {
   "cell_type": "markdown",
   "id": "3bda3e65",
   "metadata": {},
   "source": [
    "#### \n",
    "when b is called for the first time it updates the value of a to 2 via function c\n",
    "since variable a is global variable it has its scope in global space so whenever b is called for the second time the result value of a will be 4 because it already posses the value of 2 from the first iteration \n",
    "and \n",
    "finally after the third call of function b the value of a will be 6 \n"
   ]
  },
  {
   "cell_type": "markdown",
   "id": "be13ea68",
   "metadata": {},
   "source": [
    " **********************************************"
   ]
  },
  {
   "cell_type": "markdown",
   "id": "ded955b3",
   "metadata": {},
   "source": [
    "*************************"
   ]
  },
  {
   "cell_type": "markdown",
   "id": "d5c93e80",
   "metadata": {},
   "source": [
    "# Question 2\n",
    "Function fileLength(), given to you, takes the name of a file as input and returnsthe length of the file:\n"
   ]
  },
  {
   "cell_type": "code",
   "execution_count": 2,
   "id": "1b620634",
   "metadata": {},
   "outputs": [],
   "source": [
    "def file_length(file_name):\n",
    "    file = open(file_name)\n",
    "    contents = file.read()\n",
    "    file.close()\n",
    "    print(len(contents))"
   ]
  },
  {
   "cell_type": "code",
   "execution_count": 3,
   "id": "14415ecf",
   "metadata": {},
   "outputs": [
    {
     "name": "stdout",
     "output_type": "stream",
     "text": [
      "1316\n"
     ]
    }
   ],
   "source": [
    "file_length(\"midterm.txt\")"
   ]
  },
  {
   "cell_type": "code",
   "execution_count": 5,
   "id": "74394715",
   "metadata": {},
   "outputs": [],
   "source": [
    "def file_length(file_name):\n",
    "    try:                            #try except block to eliminate the flow of code\n",
    "        file = open(file_name)\n",
    "        content = file.read()\n",
    "        file.close()\n",
    "        print(len(contents))\n",
    "    except FileNotFoundError:\n",
    "        print(\"The file {} was not found\".format(file_name))"
   ]
  },
  {
   "cell_type": "code",
   "execution_count": 6,
   "id": "ac33e3c2",
   "metadata": {},
   "outputs": [
    {
     "name": "stdout",
     "output_type": "stream",
     "text": [
      "The file idterm.txt was not found\n"
     ]
    }
   ],
   "source": [
    "file_length(\"idterm.txt\")"
   ]
  },
  {
   "cell_type": "markdown",
   "id": "746a25e1",
   "metadata": {},
   "source": [
    "**********************\n"
   ]
  },
  {
   "cell_type": "markdown",
   "id": "31939e99",
   "metadata": {},
   "source": [
    "***************"
   ]
  },
  {
   "cell_type": "markdown",
   "id": "c38508fd",
   "metadata": {},
   "source": [
    "# Question 3\n",
    "Write a class named Marsupial that can be used as shown below:"
   ]
  },
  {
   "cell_type": "code",
   "execution_count": 135,
   "id": "15cd8262",
   "metadata": {},
   "outputs": [],
   "source": [
    "class Marsupial:\n",
    "    def __init__(self):        #initiallize list for a specific instance of theclass\n",
    "        self.collection_lst = []\n",
    "    \n",
    "    def put_in_pouch(self,collection):\n",
    "        self.collection_lst.append(collection)\n",
    "        \n",
    "    def pouch_content(self):\n",
    "        print(self.collection_lst)"
   ]
  },
  {
   "cell_type": "code",
   "execution_count": 136,
   "id": "e24df819",
   "metadata": {},
   "outputs": [],
   "source": [
    "m =Marsupial()"
   ]
  },
  {
   "cell_type": "code",
   "execution_count": 137,
   "id": "42b4cc40",
   "metadata": {},
   "outputs": [],
   "source": [
    "m.put_in_pouch(\"test\")\n",
    "m.put_in_pouch(\"firetruck\")\n",
    "m.put_in_pouch(\"kitten\")"
   ]
  },
  {
   "cell_type": "code",
   "execution_count": 138,
   "id": "ba126813",
   "metadata": {
    "scrolled": true
   },
   "outputs": [
    {
     "name": "stdout",
     "output_type": "stream",
     "text": [
      "['test', 'firetruck', 'kitten']\n"
     ]
    }
   ],
   "source": [
    "m.pouch_content()"
   ]
  },
  {
   "cell_type": "code",
   "execution_count": 139,
   "id": "548f6850",
   "metadata": {},
   "outputs": [],
   "source": [
    "class Kangaroo(Marsupial):     #inherits class Marsupial\n",
    "    def __init__(self, x,y):\n",
    "        super().__init__()     #extends the constructor of Marsupial\n",
    "        self.x=x\n",
    "        self.y=y\n",
    "        \n",
    "    def jump(self,dx,dy):\n",
    "        self.x+=dx\n",
    "        self.y+=dy\n",
    "    \n",
    "    def __str__(self):\n",
    "        return \"I am a Kangaroo located at coordinate ({},{})\".format(self.x,self.y)\n",
    "        \n",
    "        \n",
    "        "
   ]
  },
  {
   "cell_type": "code",
   "execution_count": 140,
   "id": "f4b4ed49",
   "metadata": {},
   "outputs": [],
   "source": [
    "k = Kangaroo(0,0)"
   ]
  },
  {
   "cell_type": "code",
   "execution_count": 141,
   "id": "60d09d0a",
   "metadata": {},
   "outputs": [
    {
     "name": "stdout",
     "output_type": "stream",
     "text": [
      "I am a Kangaroo located at coordinate (0,0)\n"
     ]
    }
   ],
   "source": [
    "print(k)"
   ]
  },
  {
   "cell_type": "code",
   "execution_count": 142,
   "id": "ac220dd2",
   "metadata": {},
   "outputs": [
    {
     "name": "stdout",
     "output_type": "stream",
     "text": [
      "['doll', 'firetruck', 'kitten']\n"
     ]
    }
   ],
   "source": [
    "k.put_in_pouch(\"doll\")\n",
    "k.put_in_pouch(\"firetruck\")\n",
    "k.put_in_pouch(\"kitten\")\n",
    "k.pouch_content()"
   ]
  },
  {
   "cell_type": "code",
   "execution_count": 143,
   "id": "d1994666",
   "metadata": {},
   "outputs": [],
   "source": [
    "k.jump(1,0)\n",
    "k.jump(1,0)\n",
    "k.jump(1,0)"
   ]
  },
  {
   "cell_type": "code",
   "execution_count": 144,
   "id": "12b115b6",
   "metadata": {},
   "outputs": [
    {
     "name": "stdout",
     "output_type": "stream",
     "text": [
      "I am a Kangaroo located at coordinate (3,0)\n"
     ]
    }
   ],
   "source": [
    "print(k)"
   ]
  },
  {
   "cell_type": "markdown",
   "id": "333fcf33",
   "metadata": {},
   "source": [
    "*********************\n"
   ]
  },
  {
   "cell_type": "markdown",
   "id": "7a2bf17d",
   "metadata": {},
   "source": [
    "***************************************************\n",
    "\n"
   ]
  },
  {
   "cell_type": "markdown",
   "id": "c8b86cf0",
   "metadata": {},
   "source": [
    "# Question 4\n",
    "Write function collatz() that takes a positive integer x as input and prints theCollatz sequence starting at x. A Collatz sequence is obtained by repeatedly applyingthis rule to the previous number x in the sequence:x = { 𝑥/2 𝑖𝑓 𝑥 𝑖𝑠 𝑒𝑣𝑒𝑛3𝑥 + 1 𝑖𝑓 𝑥 𝑖𝑠 𝑜𝑑𝑑Your function should stop when the sequence gets to number 1. Yourimplementation must be recursive, without any loops."
   ]
  },
  {
   "cell_type": "code",
   "execution_count": 1,
   "id": "ad733e9d",
   "metadata": {},
   "outputs": [],
   "source": [
    "def collatz(x):\n",
    "    print(x)\n",
    "    if x == 1:       # if input is 1 then returns the value to the function\n",
    "        return\n",
    "    elif x % 2 == 0:               #checks if input  is even\n",
    "        collatz(x // 2)\n",
    "    else:\n",
    "        collatz(3 * x + 1)\n"
   ]
  },
  {
   "cell_type": "code",
   "execution_count": 6,
   "id": "3ee16e3a",
   "metadata": {
    "scrolled": true
   },
   "outputs": [
    {
     "name": "stdout",
     "output_type": "stream",
     "text": [
      "1\n"
     ]
    }
   ],
   "source": [
    "collatz(1)"
   ]
  },
  {
   "cell_type": "code",
   "execution_count": 7,
   "id": "8efa4213",
   "metadata": {},
   "outputs": [
    {
     "name": "stdout",
     "output_type": "stream",
     "text": [
      "10\n",
      "5\n",
      "16\n",
      "8\n",
      "4\n",
      "2\n",
      "1\n"
     ]
    }
   ],
   "source": [
    "collatz(10)"
   ]
  },
  {
   "cell_type": "markdown",
   "id": "f49c8488",
   "metadata": {},
   "source": [
    "****************"
   ]
  },
  {
   "cell_type": "markdown",
   "id": "f78a8fd6",
   "metadata": {},
   "source": [
    "*********************"
   ]
  },
  {
   "cell_type": "markdown",
   "id": "a62771a0",
   "metadata": {},
   "source": [
    "# Question 5\n",
    "Write a recursive method binary() that takes a non-negativeinteger n and prints the binary representation of integer n"
   ]
  },
  {
   "cell_type": "code",
   "execution_count": 11,
   "id": "a382daf2",
   "metadata": {},
   "outputs": [],
   "source": [
    "def binary(n):\n",
    "    if n < 2:       #base case if n is less than 2 prints as it is\n",
    "        print(n, end='')\n",
    "    else:\n",
    "        binary(n // 2)   #recursion implementation \n",
    "        \n",
    "        print(n % 2, end='')    #prints the remainder\n"
   ]
  },
  {
   "cell_type": "code",
   "execution_count": 13,
   "id": "2a25eead",
   "metadata": {},
   "outputs": [
    {
     "name": "stdout",
     "output_type": "stream",
     "text": [
      "0"
     ]
    }
   ],
   "source": [
    "binary(0)"
   ]
  },
  {
   "cell_type": "code",
   "execution_count": 14,
   "id": "893e5244",
   "metadata": {},
   "outputs": [
    {
     "name": "stdout",
     "output_type": "stream",
     "text": [
      "1"
     ]
    }
   ],
   "source": [
    "binary(1)"
   ]
  },
  {
   "cell_type": "code",
   "execution_count": 15,
   "id": "13c2bc20",
   "metadata": {},
   "outputs": [
    {
     "name": "stdout",
     "output_type": "stream",
     "text": [
      "11"
     ]
    }
   ],
   "source": [
    "binary(3)"
   ]
  },
  {
   "cell_type": "code",
   "execution_count": 16,
   "id": "72c01eeb",
   "metadata": {},
   "outputs": [
    {
     "name": "stdout",
     "output_type": "stream",
     "text": [
      "1001"
     ]
    }
   ],
   "source": [
    "binary(9)"
   ]
  },
  {
   "cell_type": "markdown",
   "id": "8db8e2f9",
   "metadata": {},
   "source": [
    "**************************"
   ]
  },
  {
   "cell_type": "markdown",
   "id": "cdd6b7f8",
   "metadata": {},
   "source": [
    "**************************"
   ]
  },
  {
   "cell_type": "markdown",
   "id": "3e889b39",
   "metadata": {},
   "source": [
    "# Question 6\n",
    "Implement a class named HeadingParser that can be used to parse an HTML\n",
    "document, and retrieve and print all the headings in the document. You should\n",
    "implement your class as a subclass of HTMLParser, defined in Standard Library\n",
    "module html.parser. When fed a string containing HTML code, your class should\n",
    "print the headings, one per line and in the order in which they appear in the\n",
    "document. Each heading should be indented as follows: an h1 heading should have\n",
    "indentation 0, and h2 heading should have indentation 1, etc. Test your\n",
    "implementation using w3c.html."
   ]
  },
  {
   "cell_type": "code",
   "execution_count": 37,
   "id": "56738810",
   "metadata": {},
   "outputs": [
    {
     "name": "stdout",
     "output_type": "stream",
     "text": [
      " W3C Mission\n",
      "     Principles\n"
     ]
    }
   ],
   "source": [
    "from html.parser import HTMLParser\n",
    "\n",
    "class HeadingParser(HTMLParser):  #inherits the super class html parser\n",
    "    def __init__(self):\n",
    "        super().__init__()\n",
    "        self.inside_heading = False        #initialize the heading as false\n",
    "        self.heading_text = \"\"             #variableto store the text\n",
    "        self.heading_level = 0             #variable for indentation\n",
    "\n",
    "    def handle_starttag(self, tag, attrs):\n",
    "        \n",
    "        #search for the header tag \"h\" and also for the digit after h so tag[1:] slicing is used for detecting the digit\n",
    "        if tag.startswith('h') and tag[1:].isdigit():   \n",
    "            self.inside_heading = True\n",
    "            self.heading_level = int(tag[1:])-1  #calculate indentation by using digit of heading tag\n",
    "\n",
    "    def handle_data(self, data):\n",
    "        \n",
    "        if self.inside_heading:\n",
    "            indentation = \"    \" * self.heading_level   #spacing for indentation\n",
    "            self.heading_text = data.strip()    #removes white spaces\n",
    "            print(\"{} {}\".format(indentation, self.heading_text)) #display the heading content\n",
    "\n",
    "    def handle_endtag(self, tag):\n",
    "        if self.inside_heading:\n",
    "\n",
    "            self.inside_heading = False\n",
    "            self.heading_text = \"\"\n",
    "\n",
    "infile = open(\"w3c.html\")\n",
    "content = infile.read()\n",
    "infile.close()\n",
    "\n",
    "#print headings\n",
    "hp = HeadingParser()\n",
    "hp.feed(html_content)\n"
   ]
  },
  {
   "cell_type": "markdown",
   "id": "03b356b8",
   "metadata": {},
   "source": [
    "***********************\n"
   ]
  },
  {
   "cell_type": "markdown",
   "id": "edfb13a2",
   "metadata": {},
   "source": [
    "***************************"
   ]
  },
  {
   "cell_type": "markdown",
   "id": "77abe0ea",
   "metadata": {},
   "source": [
    "# Question 7\n",
    "Implement recursive function webdir() that takes as input: a URL (as a string) and\n",
    "non-negative integers depth and indent. Your function should visit every web\n",
    "page reachable from the starting URL web page in depth clicks or less, and print\n",
    "each web page's URL. As shown below, indentation, specified by indent, should\n",
    "be used to indicate the depth of a URL."
   ]
  },
  {
   "cell_type": "code",
   "execution_count": null,
   "id": "736bfbf6",
   "metadata": {},
   "outputs": [
    {
     "name": "stdout",
     "output_type": "stream",
     "text": [
      "https://gmpg.org/xfn/11\n",
      "  http://tantek.com/\n",
      "  http://photomatt.net/\n",
      "  http://meyerweb.com/\n",
      "  http://www.w3.org/TR/html401/struct/global.html#h-7.4.4.3\n",
      "  http://www.w3.org/TR/html401/struct/links.html#adef-rel\n",
      "  http://creativecommons.org/licenses/by-nd/2.0/\n",
      "https://lyricalchord.com/xmlrpc.php\n"
     ]
    }
   ],
   "source": [
    "import requests\n",
    "import re\n",
    "\n",
    "def get_links(url):\n",
    "    response = requests.get(url)\n",
    "    # Extract of links using regular expression\n",
    "    links = re.findall(r'href=[\"\\'](https?://.*?)(?=[\"\\'])', response.text)\n",
    "    return links\n",
    "\n",
    "def webdir(url, depth, indent):\n",
    "    if depth == 0:                        #base case for recursion\n",
    "        return\n",
    "    \n",
    "    links = get_links(url)\n",
    "    for link in links:\n",
    "        print(' ' * indent + link)\n",
    "        webdir(link, depth - 1, indent + 2)            #RECURSIVE CALL FOR WEDIR FUNCTION\n",
    "\n",
    "\n",
    "\n",
    "\n",
    "webdir('https://lyricalchord.com/its-my-life-lyrics-chords/', 2, 0)\n"
   ]
  },
  {
   "cell_type": "markdown",
   "id": "0703c80b",
   "metadata": {},
   "source": [
    "*************************\n"
   ]
  },
  {
   "cell_type": "markdown",
   "id": "7c3f711e",
   "metadata": {},
   "source": [
    "***************************"
   ]
  },
  {
   "cell_type": "markdown",
   "id": "80b0553e",
   "metadata": {},
   "source": [
    "# Question 8."
   ]
  },
  {
   "cell_type": "code",
   "execution_count": 1,
   "id": "c6cca4c5",
   "metadata": {},
   "outputs": [
    {
     "ename": "SyntaxError",
     "evalue": "invalid syntax (3631553328.py, line 2)",
     "output_type": "error",
     "traceback": [
      "\u001b[1;36m  Cell \u001b[1;32mIn[1], line 2\u001b[1;36m\u001b[0m\n\u001b[1;33m    SELECT Temperature FROM given_table;\u001b[0m\n\u001b[1;37m           ^\u001b[0m\n\u001b[1;31mSyntaxError\u001b[0m\u001b[1;31m:\u001b[0m invalid syntax\n"
     ]
    }
   ],
   "source": [
    "#a. All the temperature data:\n",
    "SELECT Temperature FROM given_table;\n",
    "\n",
    "#b) All the cities, but without repetition.\n",
    "SELECT DISTINCT City FROM given_table;\n",
    "\n",
    "#c) All the records for India.\n",
    "SELECT * FROM given_table WHERE Country = 'India';\n",
    "\n",
    "#d) All the Fall records.\n",
    "SELECT * FROM given_table_name WHERE Season = 'Fall';\n",
    "\n",
    "#e) The city, country, and season for which the average rainfall is between 200 and 400 millimeters:\n",
    "SELECT City, Country, Season FROM given_table GROUP BY City, Country, Season HAVING AVG(Rainfall) BETWEEN 200 AND 400;\n",
    "\n",
    "#f) The city and country for which the average Fall temperature is above 20 degrees, in increasing temperature order:\n",
    "SELECT City, Country FROM given_table WHERE Season = 'Fall' GROUP BY City, Country HAVING AVG(Temperature) > 20 ORDER BY AVG(Temperature) ASC;\n",
    "\n",
    "#g) The total annual rainfall for Cairo:\n",
    "SELECT City, Country, Season, AVG(Rainfall) AS TotalRainfall FROM given_table WHERE City = 'Cairo'GROUP BY City, Country, Season;\n",
    "\n",
    "#h) The total rainfall for each season:\n",
    "SELECT Season, AVG(Rainfall) AS TotalRainfall FROM given_table GROUP BY Season;"
   ]
  },
  {
   "cell_type": "markdown",
   "id": "5d3532f5",
   "metadata": {},
   "source": [
    "# Question 9. \n",
    "Suppose list words is defined as follows:\n",
    ">>> words = ['The', 'quick', 'brown', 'fox', 'jumps', 'over','the', 'lazy', 'dog']\n",
    "Write list comprehension expressions that use list words and generate the followinglists:"
   ]
  },
  {
   "cell_type": "markdown",
   "id": "10df2a10",
   "metadata": {},
   "source": [
    "#### a) ['THE', 'QUICK', 'BROWN', 'FOX', 'JUMPS', 'OVER', 'THE','LAZY', 'DOG']"
   ]
  },
  {
   "cell_type": "code",
   "execution_count": 2,
   "id": "29760ec9",
   "metadata": {},
   "outputs": [],
   "source": [
    "words = ['The', 'quick', 'brown', 'fox', 'jumps', 'over','the', 'lazy', 'dog']\n",
    "    \n",
    "upper_case=[word.upper() for word in words]"
   ]
  },
  {
   "cell_type": "code",
   "execution_count": 152,
   "id": "ed98c301",
   "metadata": {},
   "outputs": [
    {
     "data": {
      "text/plain": [
       "['THE', 'QUICK', 'BROWN', 'FOX', 'JUMPS', 'OVER', 'THE', 'LAZY', 'DOG']"
      ]
     },
     "execution_count": 152,
     "metadata": {},
     "output_type": "execute_result"
    }
   ],
   "source": [
    "upper_case"
   ]
  },
  {
   "cell_type": "markdown",
   "id": "2b0ed1ae",
   "metadata": {},
   "source": [
    "#### b) ['the', 'quick', 'brown', 'fox', 'jumps', 'over', 'the','lazy', 'dog']"
   ]
  },
  {
   "cell_type": "code",
   "execution_count": 153,
   "id": "cc2fc358",
   "metadata": {},
   "outputs": [],
   "source": [
    "lower_case=[word.lower() for word in words]"
   ]
  },
  {
   "cell_type": "code",
   "execution_count": 154,
   "id": "1b8369c1",
   "metadata": {},
   "outputs": [
    {
     "data": {
      "text/plain": [
       "['the', 'quick', 'brown', 'fox', 'jumps', 'over', 'the', 'lazy', 'dog']"
      ]
     },
     "execution_count": 154,
     "metadata": {},
     "output_type": "execute_result"
    }
   ],
   "source": [
    "lower_case"
   ]
  },
  {
   "cell_type": "markdown",
   "id": "ebe72515",
   "metadata": {},
   "source": [
    "#### c) [3, 5, 5, 3, 5, 4, 3, 4, 3] (the list of lengths of words in listwords)."
   ]
  },
  {
   "cell_type": "code",
   "execution_count": 155,
   "id": "3c92d799",
   "metadata": {},
   "outputs": [],
   "source": [
    "length_words = [len(word) for word in words]"
   ]
  },
  {
   "cell_type": "code",
   "execution_count": 156,
   "id": "a2c5c7f8",
   "metadata": {},
   "outputs": [
    {
     "data": {
      "text/plain": [
       "[3, 5, 5, 3, 5, 4, 3, 4, 3]"
      ]
     },
     "execution_count": 156,
     "metadata": {},
     "output_type": "execute_result"
    }
   ],
   "source": [
    "length_words"
   ]
  },
  {
   "cell_type": "markdown",
   "id": "ec616289",
   "metadata": {},
   "source": [
    "#### d) [['THE', 'the', 3], ['QUICK', 'quick', 5], ['BROWN','brown', 5], ['FOX', 'fox', 3], ['JUMPS', 'jumps', 5],['OVER', 'over', 4], ['THE', 'the', 3], ['LAZY', 'lazy',4], ['DOG', 'dog', 3]] (the list containing a list for every word of listwords, where each list contains the word in uppercase and lowercase and thelength of the word.)"
   ]
  },
  {
   "cell_type": "code",
   "execution_count": 3,
   "id": "2509d2ea",
   "metadata": {},
   "outputs": [],
   "source": [
    "result_list = [[word.upper(), word.lower(), len(word)] for word in words]"
   ]
  },
  {
   "cell_type": "code",
   "execution_count": 4,
   "id": "2f2ddb0e",
   "metadata": {},
   "outputs": [
    {
     "data": {
      "text/plain": [
       "[['THE', 'the', 3],\n",
       " ['QUICK', 'quick', 5],\n",
       " ['BROWN', 'brown', 5],\n",
       " ['FOX', 'fox', 3],\n",
       " ['JUMPS', 'jumps', 5],\n",
       " ['OVER', 'over', 4],\n",
       " ['THE', 'the', 3],\n",
       " ['LAZY', 'lazy', 4],\n",
       " ['DOG', 'dog', 3]]"
      ]
     },
     "execution_count": 4,
     "metadata": {},
     "output_type": "execute_result"
    }
   ],
   "source": [
    "result_list\n"
   ]
  },
  {
   "cell_type": "markdown",
   "id": "6d4465af",
   "metadata": {},
   "source": [
    "#### e) ['The', 'quick', 'brown', 'fox', 'jumps', 'over', 'the','lazy', 'dog'] (the list of words in list words containing 4 or morecharacters."
   ]
  },
  {
   "cell_type": "code",
   "execution_count": 8,
   "id": "f5b99082",
   "metadata": {},
   "outputs": [],
   "source": [
    "contains_four_char = [[word] for word in words if len(word) >=4 ]"
   ]
  },
  {
   "cell_type": "code",
   "execution_count": 9,
   "id": "e49f7984",
   "metadata": {
    "scrolled": true
   },
   "outputs": [
    {
     "data": {
      "text/plain": [
       "[['quick'], ['brown'], ['jumps'], ['over'], ['lazy']]"
      ]
     },
     "execution_count": 9,
     "metadata": {},
     "output_type": "execute_result"
    }
   ],
   "source": [
    "contains_four_char"
   ]
  },
  {
   "cell_type": "code",
   "execution_count": null,
   "id": "74918a23",
   "metadata": {},
   "outputs": [],
   "source": []
  }
 ],
 "metadata": {
  "kernelspec": {
   "display_name": "Python 3 (ipykernel)",
   "language": "python",
   "name": "python3"
  },
  "language_info": {
   "codemirror_mode": {
    "name": "ipython",
    "version": 3
   },
   "file_extension": ".py",
   "mimetype": "text/x-python",
   "name": "python",
   "nbconvert_exporter": "python",
   "pygments_lexer": "ipython3",
   "version": "3.11.4"
  }
 },
 "nbformat": 4,
 "nbformat_minor": 5
}
