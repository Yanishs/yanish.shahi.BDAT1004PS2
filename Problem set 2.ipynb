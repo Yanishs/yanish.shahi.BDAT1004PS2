{
 "cells": [
  {
   "cell_type": "markdown",
   "id": "f1e9f0b5",
   "metadata": {},
   "source": [
    "# Question 1\n",
    "Consider the following Python module:"
   ]
  },
  {
   "cell_type": "code",
   "execution_count": 1,
   "id": "29518726",
   "metadata": {},
   "outputs": [],
   "source": [
    "a = 0\n",
    "\n",
    "def b():\n",
    "    global a\n",
    "    a= c(a)\n",
    "    \n",
    "def c(a):\n",
    "    return a+2\n",
    "\n"
   ]
  },
  {
   "cell_type": "code",
   "execution_count": 2,
   "id": "d1e2f143",
   "metadata": {},
   "outputs": [],
   "source": [
    "b() "
   ]
  },
  {
   "cell_type": "code",
   "execution_count": 3,
   "id": "c4abf0a5",
   "metadata": {},
   "outputs": [],
   "source": [
    "b()"
   ]
  },
  {
   "cell_type": "code",
   "execution_count": 4,
   "id": "53c01a54",
   "metadata": {},
   "outputs": [],
   "source": [
    "b()"
   ]
  },
  {
   "cell_type": "code",
   "execution_count": 5,
   "id": "d5c4ecfd",
   "metadata": {},
   "outputs": [
    {
     "data": {
      "text/plain": [
       "6"
      ]
     },
     "execution_count": 5,
     "metadata": {},
     "output_type": "execute_result"
    }
   ],
   "source": [
    "a"
   ]
  },
  {
   "cell_type": "markdown",
   "id": "3bda3e65",
   "metadata": {},
   "source": [
    "#### \n",
    "when b is called for the first time it updates the value of a to 2 via function c\n",
    "since variable a is global variable it has its scope in global space so whenever b is called for the second time the result value of a will be 4 because it already posses the value of 2 from the first iteration \n",
    "and \n",
    "finally after the third call of function b the value of a will be 6 \n"
   ]
  },
  {
   "cell_type": "markdown",
   "id": "be13ea68",
   "metadata": {},
   "source": [
    " **********************************************"
   ]
  },
  {
   "cell_type": "markdown",
   "id": "ded955b3",
   "metadata": {},
   "source": [
    "*************************"
   ]
  },
  {
   "cell_type": "markdown",
   "id": "d5c93e80",
   "metadata": {},
   "source": [
    "# Question 2\n",
    "Function fileLength(), given to you, takes the name of a file as input and returnsthe length of the file:\n"
   ]
  },
  {
   "cell_type": "code",
   "execution_count": 2,
   "id": "1b620634",
   "metadata": {},
   "outputs": [],
   "source": [
    "def file_length(file_name):\n",
    "    file = open(file_name)\n",
    "    contents = file.read()\n",
    "    file.close()\n",
    "    print(len(contents))"
   ]
  },
  {
   "cell_type": "code",
   "execution_count": 3,
   "id": "14415ecf",
   "metadata": {},
   "outputs": [
    {
     "name": "stdout",
     "output_type": "stream",
     "text": [
      "1316\n"
     ]
    }
   ],
   "source": [
    "file_length(\"midterm.txt\")"
   ]
  },
  {
   "cell_type": "code",
   "execution_count": 5,
   "id": "74394715",
   "metadata": {},
   "outputs": [],
   "source": [
    "def file_length(file_name):\n",
    "    try:                            #try except block to eliminate the flow of code\n",
    "        file = open(file_name)\n",
    "        content = file.read()\n",
    "        file.close()\n",
    "        print(len(contents))\n",
    "    except FileNotFoundError:\n",
    "        print(\"The file {} was not found\".format(file_name))"
   ]
  },
  {
   "cell_type": "code",
   "execution_count": 6,
   "id": "ac33e3c2",
   "metadata": {},
   "outputs": [
    {
     "name": "stdout",
     "output_type": "stream",
     "text": [
      "The file idterm.txt was not found\n"
     ]
    }
   ],
   "source": [
    "file_length(\"idterm.txt\")"
   ]
  },
  {
   "cell_type": "markdown",
   "id": "746a25e1",
   "metadata": {},
   "source": [
    "**********************\n"
   ]
  },
  {
   "cell_type": "markdown",
   "id": "31939e99",
   "metadata": {},
   "source": [
    "***************"
   ]
  },
  {
   "cell_type": "markdown",
   "id": "c38508fd",
   "metadata": {},
   "source": [
    "# Question 3\n",
    "Write a class named Marsupial that can be used as shown below:"
   ]
  },
  {
   "cell_type": "code",
   "execution_count": 135,
   "id": "15cd8262",
   "metadata": {},
   "outputs": [],
   "source": [
    "class Marsupial:\n",
    "    def __init__(self):        #initiallize list for a specific instance of theclass\n",
    "        self.collection_lst = []\n",
    "    \n",
    "    def put_in_pouch(self,collection):\n",
    "        self.collection_lst.append(collection)\n",
    "        \n",
    "    def pouch_content(self):\n",
    "        print(self.collection_lst)"
   ]
  },
  {
   "cell_type": "code",
   "execution_count": 136,
   "id": "e24df819",
   "metadata": {},
   "outputs": [],
   "source": [
    "m =Marsupial()"
   ]
  },
  {
   "cell_type": "code",
   "execution_count": 137,
   "id": "42b4cc40",
   "metadata": {},
   "outputs": [],
   "source": [
    "m.put_in_pouch(\"test\")\n",
    "m.put_in_pouch(\"firetruck\")\n",
    "m.put_in_pouch(\"kitten\")"
   ]
  },
  {
   "cell_type": "code",
   "execution_count": 138,
   "id": "ba126813",
   "metadata": {
    "scrolled": true
   },
   "outputs": [
    {
     "name": "stdout",
     "output_type": "stream",
     "text": [
      "['test', 'firetruck', 'kitten']\n"
     ]
    }
   ],
   "source": [
    "m.pouch_content()"
   ]
  },
  {
   "cell_type": "code",
   "execution_count": 139,
   "id": "548f6850",
   "metadata": {},
   "outputs": [],
   "source": [
    "class Kangaroo(Marsupial):     #inherits class Marsupial\n",
    "    def __init__(self, x,y):\n",
    "        super().__init__()     #extends the constructor of Marsupial\n",
    "        self.x=x\n",
    "        self.y=y\n",
    "        \n",
    "    def jump(self,dx,dy):\n",
    "        self.x+=dx\n",
    "        self.y+=dy\n",
    "    \n",
    "    def __str__(self):\n",
    "        return \"I am a Kangaroo located at coordinate ({},{})\".format(self.x,self.y)\n",
    "        \n",
    "        \n",
    "        "
   ]
  },
  {
   "cell_type": "code",
   "execution_count": 140,
   "id": "f4b4ed49",
   "metadata": {},
   "outputs": [],
   "source": [
    "k = Kangaroo(0,0)"
   ]
  },
  {
   "cell_type": "code",
   "execution_count": 141,
   "id": "60d09d0a",
   "metadata": {},
   "outputs": [
    {
     "name": "stdout",
     "output_type": "stream",
     "text": [
      "I am a Kangaroo located at coordinate (0,0)\n"
     ]
    }
   ],
   "source": [
    "print(k)"
   ]
  },
  {
   "cell_type": "code",
   "execution_count": 142,
   "id": "ac220dd2",
   "metadata": {},
   "outputs": [
    {
     "name": "stdout",
     "output_type": "stream",
     "text": [
      "['doll', 'firetruck', 'kitten']\n"
     ]
    }
   ],
   "source": [
    "k.put_in_pouch(\"doll\")\n",
    "k.put_in_pouch(\"firetruck\")\n",
    "k.put_in_pouch(\"kitten\")\n",
    "k.pouch_content()"
   ]
  },
  {
   "cell_type": "code",
   "execution_count": 143,
   "id": "d1994666",
   "metadata": {},
   "outputs": [],
   "source": [
    "k.jump(1,0)\n",
    "k.jump(1,0)\n",
    "k.jump(1,0)"
   ]
  },
  {
   "cell_type": "code",
   "execution_count": 144,
   "id": "12b115b6",
   "metadata": {},
   "outputs": [
    {
     "name": "stdout",
     "output_type": "stream",
     "text": [
      "I am a Kangaroo located at coordinate (3,0)\n"
     ]
    }
   ],
   "source": [
    "print(k)"
   ]
  },
  {
   "cell_type": "markdown",
   "id": "6f10bbd6",
   "metadata": {},
   "source": [
    "*********************\n"
   ]
  },
  {
   "cell_type": "markdown",
   "id": "c6382bea",
   "metadata": {},
   "source": [
    "# Question 9. \n",
    "Suppose list words is defined as follows:\n",
    ">>> words = ['The', 'quick', 'brown', 'fox', 'jumps', 'over','the', 'lazy', 'dog']\n",
    "Write list comprehension expressions that use list words and generate the followinglists:"
   ]
  },
  {
   "cell_type": "markdown",
   "id": "128caa2c",
   "metadata": {},
   "source": [
    "#### a) ['THE', 'QUICK', 'BROWN', 'FOX', 'JUMPS', 'OVER', 'THE','LAZY', 'DOG']"
   ]
  },
  {
   "cell_type": "code",
   "execution_count": 2,
   "id": "29760ec9",
   "metadata": {},
   "outputs": [],
   "source": [
    "words = ['The', 'quick', 'brown', 'fox', 'jumps', 'over','the', 'lazy', 'dog']\n",
    "    \n",
    "upper_case=[word.upper() for word in words]"
   ]
  },
  {
   "cell_type": "code",
   "execution_count": 152,
   "id": "ed98c301",
   "metadata": {},
   "outputs": [
    {
     "data": {
      "text/plain": [
       "['THE', 'QUICK', 'BROWN', 'FOX', 'JUMPS', 'OVER', 'THE', 'LAZY', 'DOG']"
      ]
     },
     "execution_count": 152,
     "metadata": {},
     "output_type": "execute_result"
    }
   ],
   "source": [
    "upper_case"
   ]
  },
  {
   "cell_type": "markdown",
   "id": "d2704842",
   "metadata": {},
   "source": [
    "#### b) ['the', 'quick', 'brown', 'fox', 'jumps', 'over', 'the','lazy', 'dog']"
   ]
  },
  {
   "cell_type": "code",
   "execution_count": 153,
   "id": "cc2fc358",
   "metadata": {},
   "outputs": [],
   "source": [
    "lower_case=[word.lower() for word in words]"
   ]
  },
  {
   "cell_type": "code",
   "execution_count": 154,
   "id": "1b8369c1",
   "metadata": {},
   "outputs": [
    {
     "data": {
      "text/plain": [
       "['the', 'quick', 'brown', 'fox', 'jumps', 'over', 'the', 'lazy', 'dog']"
      ]
     },
     "execution_count": 154,
     "metadata": {},
     "output_type": "execute_result"
    }
   ],
   "source": [
    "lower_case"
   ]
  },
  {
   "cell_type": "markdown",
   "id": "7235dcab",
   "metadata": {},
   "source": [
    "#### c) [3, 5, 5, 3, 5, 4, 3, 4, 3] (the list of lengths of words in listwords)."
   ]
  },
  {
   "cell_type": "code",
   "execution_count": 155,
   "id": "3c92d799",
   "metadata": {},
   "outputs": [],
   "source": [
    "length_words = [len(word) for word in words]"
   ]
  },
  {
   "cell_type": "code",
   "execution_count": 156,
   "id": "a2c5c7f8",
   "metadata": {},
   "outputs": [
    {
     "data": {
      "text/plain": [
       "[3, 5, 5, 3, 5, 4, 3, 4, 3]"
      ]
     },
     "execution_count": 156,
     "metadata": {},
     "output_type": "execute_result"
    }
   ],
   "source": [
    "length_words"
   ]
  },
  {
   "cell_type": "markdown",
   "id": "fd52b0c1",
   "metadata": {},
   "source": [
    "#### d) [['THE', 'the', 3], ['QUICK', 'quick', 5], ['BROWN','brown', 5], ['FOX', 'fox', 3], ['JUMPS', 'jumps', 5],['OVER', 'over', 4], ['THE', 'the', 3], ['LAZY', 'lazy',4], ['DOG', 'dog', 3]] (the list containing a list for every word of listwords, where each list contains the word in uppercase and lowercase and thelength of the word.)"
   ]
  },
  {
   "cell_type": "code",
   "execution_count": 3,
   "id": "2509d2ea",
   "metadata": {},
   "outputs": [],
   "source": [
    "result_list = [[word.upper(), word.lower(), len(word)] for word in words]"
   ]
  },
  {
   "cell_type": "code",
   "execution_count": 4,
   "id": "4230a4e8",
   "metadata": {},
   "outputs": [
    {
     "data": {
      "text/plain": [
       "[['THE', 'the', 3],\n",
       " ['QUICK', 'quick', 5],\n",
       " ['BROWN', 'brown', 5],\n",
       " ['FOX', 'fox', 3],\n",
       " ['JUMPS', 'jumps', 5],\n",
       " ['OVER', 'over', 4],\n",
       " ['THE', 'the', 3],\n",
       " ['LAZY', 'lazy', 4],\n",
       " ['DOG', 'dog', 3]]"
      ]
     },
     "execution_count": 4,
     "metadata": {},
     "output_type": "execute_result"
    }
   ],
   "source": [
    "result_list\n"
   ]
  },
  {
   "cell_type": "markdown",
   "id": "efa14cec",
   "metadata": {},
   "source": [
    "#### e) ['The', 'quick', 'brown', 'fox', 'jumps', 'over', 'the','lazy', 'dog'] (the list of words in list words containing 4 or morecharacters."
   ]
  },
  {
   "cell_type": "code",
   "execution_count": 8,
   "id": "a9a74a07",
   "metadata": {},
   "outputs": [],
   "source": [
    "contains_four_char = [[word] for word in words if len(word) >=4 ]"
   ]
  },
  {
   "cell_type": "code",
   "execution_count": 9,
   "id": "510e1b83",
   "metadata": {
    "scrolled": true
   },
   "outputs": [
    {
     "data": {
      "text/plain": [
       "[['quick'], ['brown'], ['jumps'], ['over'], ['lazy']]"
      ]
     },
     "execution_count": 9,
     "metadata": {},
     "output_type": "execute_result"
    }
   ],
   "source": [
    "contains_four_char"
   ]
  },
  {
   "cell_type": "code",
   "execution_count": null,
   "id": "17e8f191",
   "metadata": {},
   "outputs": [],
   "source": []
  }
 ],
 "metadata": {
  "kernelspec": {
   "display_name": "Python 3 (ipykernel)",
   "language": "python",
   "name": "python3"
  },
  "language_info": {
   "codemirror_mode": {
    "name": "ipython",
    "version": 3
   },
   "file_extension": ".py",
   "mimetype": "text/x-python",
   "name": "python",
   "nbconvert_exporter": "python",
   "pygments_lexer": "ipython3",
   "version": "3.11.4"
  }
 },
 "nbformat": 4,
 "nbformat_minor": 5
}
